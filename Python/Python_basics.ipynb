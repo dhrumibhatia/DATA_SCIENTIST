{
 "cells": [
  {
   "metadata": {},
   "cell_type": "markdown",
   "source": "## Python",
   "id": "7e0b8f49a11172e5"
  },
  {
   "metadata": {},
   "cell_type": "markdown",
   "source": [
    "Python is an interpreter, object-oriented, high-level programming language with dynamic semantics.\n",
    "Python's simple, easy to learn syntax emphasizes readability and therefore reduces the cost of program\n",
    "maintenance. Python supports modules and packages, which encourages program modularity and code\n",
    "reuse."
   ],
   "id": "f91fb4d17fabc0b8"
  },
  {
   "metadata": {},
   "cell_type": "markdown",
   "source": [
    "Python guide:- [Link](https://zerotomastery.io/cheatsheets/python-cheat-sheet/)\n",
    "\n",
    "Book:- [Link](https://books.google.co.in/books?id=gDGdDwAAQBAJ&printsec=frontcover&redir_esc=y#v=onepage&q&f=false)"
   ],
   "id": "c1415d275c7e0f08"
  },
  {
   "metadata": {},
   "cell_type": "markdown",
   "source": "### Data Types",
   "id": "39adca8017c49b65"
  },
  {
   "metadata": {
    "ExecuteTime": {
     "end_time": "2025-08-13T11:36:06.134340Z",
     "start_time": "2025-08-13T11:36:06.130727Z"
    }
   },
   "cell_type": "code",
   "source": [
    "a = 1\n",
    "print(type(a))\n",
    "b = 1.1\n",
    "print(type(b))\n",
    "c = True\n",
    "print(type(c))\n",
    "d = 'data'\n",
    "print(type(d))"
   ],
   "id": "39b658e27c4ece6c",
   "outputs": [
    {
     "name": "stdout",
     "output_type": "stream",
     "text": [
      "<class 'int'>\n",
      "<class 'float'>\n",
      "<class 'bool'>\n",
      "<class 'str'>\n"
     ]
    }
   ],
   "execution_count": 1
  },
  {
   "metadata": {},
   "cell_type": "markdown",
   "source": "### Bool",
   "id": "91dc088de86ae9d4"
  },
  {
   "metadata": {
    "ExecuteTime": {
     "end_time": "2025-08-13T11:36:06.498895Z",
     "start_time": "2025-08-13T11:36:06.494358Z"
    }
   },
   "cell_type": "code",
   "source": [
    "print(bool(None))\n",
    "print(bool(False))\n",
    "print(bool(0))\n",
    "print(bool())\n",
    "print(bool(1))\n",
    "print(bool(-1))\n",
    "print(bool(0.0))\n",
    "print(bool([]))\n",
    "print(bool({}))\n",
    "print(bool(()))\n",
    "print(bool(''))\n",
    "print(bool(range(0)))\n",
    "print(bool(set()))\n",
    "print(bool(list()))\n",
    "print(bool(dict()))"
   ],
   "id": "4ca7fd6059e3cd9b",
   "outputs": [
    {
     "name": "stdout",
     "output_type": "stream",
     "text": [
      "False\n",
      "False\n",
      "False\n",
      "False\n",
      "True\n",
      "True\n",
      "False\n",
      "False\n",
      "False\n",
      "False\n",
      "False\n",
      "False\n",
      "False\n",
      "False\n",
      "False\n"
     ]
    }
   ],
   "execution_count": 2
  },
  {
   "metadata": {},
   "cell_type": "markdown",
   "source": "### String formating and slicing\n",
   "id": "a214ec5496ce057e"
  },
  {
   "metadata": {
    "ExecuteTime": {
     "end_time": "2025-08-13T11:36:06.533549Z",
     "start_time": "2025-08-13T11:36:06.530923Z"
    }
   },
   "cell_type": "code",
   "source": [
    "s = 'Python is best for Data science'\n",
    "# f-string\n",
    "written = 'Guido van Rossum'\n",
    "print(f'Python was invented by {written}')\n",
    "print(f\"written in reverse order :- {written[::-1]}\")"
   ],
   "id": "d766c05cc856704d",
   "outputs": [
    {
     "name": "stdout",
     "output_type": "stream",
     "text": [
      "Python was invented by Guido van Rossum\n",
      "written in reverse order :- mussoR nav odiuG\n"
     ]
    }
   ],
   "execution_count": 3
  },
  {
   "metadata": {},
   "cell_type": "markdown",
   "source": [
    "### string functions\n",
    "strip() <br>\n",
    "split() <br>\n",
    "replace() <br>\n",
    "endswith() <br>\n",
    "upper() <br>\n",
    "lower() <br>\n",
    "startswith() <br>\n",
    "index() <br>\n",
    "find() <br>\n",
    "capitalize() <br>\n",
    "count() <br>"
   ],
   "id": "8029b60f37bdf376"
  },
  {
   "metadata": {
    "ExecuteTime": {
     "end_time": "2025-08-13T11:36:06.570575Z",
     "start_time": "2025-08-13T11:36:06.567598Z"
    }
   },
   "cell_type": "code",
   "source": [
    "#strip()\n",
    "sentence = '  I am old  '\n",
    "print(sentence.lstrip())\n",
    "print(sentence.rstrip())\n",
    "print(sentence.strip())\n",
    "print(sentence.strip('I'))"
   ],
   "id": "59b3a4d1f2a9a724",
   "outputs": [
    {
     "name": "stdout",
     "output_type": "stream",
     "text": [
      "I am old  \n",
      "  I am old\n",
      "I am old\n",
      "  I am old  \n"
     ]
    }
   ],
   "execution_count": 4
  },
  {
   "metadata": {},
   "cell_type": "markdown",
   "source": "As you can see that last print(sentence.strip('I') did not work because, it check like --> Is the first character ' ' ? Yes. Is a space in the character set 'I'? No. strip() stops here. It will not strip off any more characters from the beginning, even if they were in the set.",
   "id": "f7e44fffe9b4379e"
  },
  {
   "metadata": {
    "ExecuteTime": {
     "end_time": "2025-08-13T11:36:06.614014Z",
     "start_time": "2025-08-13T11:36:06.610718Z"
    }
   },
   "cell_type": "code",
   "source": [
    "#split()\n",
    "sen = 'AI will do vibe code'\n",
    "print(sen.split())\n",
    "print(sen.split('w'))"
   ],
   "id": "62a4067762579db5",
   "outputs": [
    {
     "name": "stdout",
     "output_type": "stream",
     "text": [
      "['AI', 'will', 'do', 'vibe', 'code']\n",
      "['AI ', 'ill do vibe code']\n"
     ]
    }
   ],
   "execution_count": 5
  },
  {
   "metadata": {
    "ExecuteTime": {
     "end_time": "2025-08-13T11:36:06.659585Z",
     "start_time": "2025-08-13T11:36:06.656912Z"
    }
   },
   "cell_type": "code",
   "source": [
    "#find\n",
    "sen = 'AI will change the every industry what do you think ?'\n",
    "print(sen.find('AI')) #find() --> will give the index of where the word is started"
   ],
   "id": "124309ceb17a818b",
   "outputs": [
    {
     "name": "stdout",
     "output_type": "stream",
     "text": [
      "0\n"
     ]
    }
   ],
   "execution_count": 6
  },
  {
   "metadata": {
    "ExecuteTime": {
     "end_time": "2025-08-13T11:36:06.705571Z",
     "start_time": "2025-08-13T11:36:06.702835Z"
    }
   },
   "cell_type": "code",
   "source": [
    "#replace()\n",
    "sen = 'ML will do vibe code'\n",
    "print(sen.replace('ML', 'AI')) # replace --> ML with  AI\n",
    "sen2 = 'ML will do vibe code ML'\n",
    "print(sen2.replace('ML', 'AI'))"
   ],
   "id": "c6ca1f1c70f5a1bd",
   "outputs": [
    {
     "name": "stdout",
     "output_type": "stream",
     "text": [
      "AI will do vibe code\n",
      "AI will do vibe code AI\n"
     ]
    }
   ],
   "execution_count": 7
  },
  {
   "metadata": {
    "ExecuteTime": {
     "end_time": "2025-08-13T11:36:06.752430Z",
     "start_time": "2025-08-13T11:36:06.749597Z"
    }
   },
   "cell_type": "code",
   "source": [
    "#endswith\n",
    "sen = 'What do you code?'\n",
    "print(sen.endswith('?'))\n",
    "print(sen.endswith('.'))\n",
    "#startswith\n",
    "print(sen.startswith('W'))\n",
    "print(sen.startswith('Hi'))"
   ],
   "id": "dc14e626b8a4a28",
   "outputs": [
    {
     "name": "stdout",
     "output_type": "stream",
     "text": [
      "True\n",
      "False\n",
      "True\n",
      "False\n"
     ]
    }
   ],
   "execution_count": 8
  },
  {
   "metadata": {
    "ExecuteTime": {
     "end_time": "2025-08-13T11:36:06.799608Z",
     "start_time": "2025-08-13T11:36:06.796459Z"
    }
   },
   "cell_type": "code",
   "source": [
    "#upper\n",
    "sen = 'hi there!'\n",
    "print(sen.upper())\n",
    "#lower\n",
    "sen2 = 'HI There'\n",
    "print(sen2.lower())\n",
    "#capitalize\n",
    "sen3 = 'hi there!'\n",
    "print(sen3.capitalize())"
   ],
   "id": "2987ad9afda5be4e",
   "outputs": [
    {
     "name": "stdout",
     "output_type": "stream",
     "text": [
      "HI THERE!\n",
      "hi there\n",
      "Hi there!\n"
     ]
    }
   ],
   "execution_count": 9
  },
  {
   "metadata": {
    "ExecuteTime": {
     "end_time": "2025-08-13T11:36:06.845102Z",
     "start_time": "2025-08-13T11:36:06.842389Z"
    }
   },
   "cell_type": "code",
   "source": [
    "# count\n",
    "sen = 'go to college'\n",
    "print(sen.count('g'))\n",
    "print(sen.count('t'))"
   ],
   "id": "7953fd1e1f54f102",
   "outputs": [
    {
     "name": "stdout",
     "output_type": "stream",
     "text": [
      "2\n",
      "1\n"
     ]
    }
   ],
   "execution_count": 10
  },
  {
   "metadata": {},
   "cell_type": "markdown",
   "source": "### Function",
   "id": "a24bd88bb42b2a84"
  },
  {
   "metadata": {
    "ExecuteTime": {
     "end_time": "2025-08-13T11:36:06.896217Z",
     "start_time": "2025-08-13T11:36:06.893497Z"
    }
   },
   "cell_type": "code",
   "source": [
    "# simple function\n",
    "def add():\n",
    "    return 1+5\n",
    "print(add())\n",
    "\n",
    "# keyword and argument in function\n",
    "def add(a,b):\n",
    "    return a+b\n",
    "print(add(5,9))"
   ],
   "id": "bc652e1b9c2731f3",
   "outputs": [
    {
     "name": "stdout",
     "output_type": "stream",
     "text": [
      "6\n",
      "14\n"
     ]
    }
   ],
   "execution_count": 11
  },
  {
   "metadata": {
    "ExecuteTime": {
     "end_time": "2025-08-13T11:36:06.940373Z",
     "start_time": "2025-08-13T11:36:06.937652Z"
    }
   },
   "cell_type": "code",
   "source": [
    "# default keywords\n",
    "def greet(name,age=24):\n",
    "    return f'Hello {name}, you are {age} years old.'\n",
    "print(greet('Rossum',25))"
   ],
   "id": "5c08e7241d1b5938",
   "outputs": [
    {
     "name": "stdout",
     "output_type": "stream",
     "text": [
      "Hello Rossum, you are 25 years old.\n"
     ]
    }
   ],
   "execution_count": 12
  },
  {
   "metadata": {
    "ExecuteTime": {
     "end_time": "2025-08-13T11:36:06.987647Z",
     "start_time": "2025-08-13T11:36:06.984543Z"
    }
   },
   "cell_type": "code",
   "source": [
    "# type hint provided\n",
    "def greet(name, age: int = 24) -> str:\n",
    "    return f'Hello {name}, you are {age} years old.'\n",
    "print(greet('Rossum',25))"
   ],
   "id": "e76ab41f50887694",
   "outputs": [
    {
     "name": "stdout",
     "output_type": "stream",
     "text": [
      "Hello Rossum, you are 25 years old.\n"
     ]
    }
   ],
   "execution_count": 13
  },
  {
   "metadata": {},
   "cell_type": "markdown",
   "source": [
    "### Use of *args and **kwargs\n",
    "*args -> used for the unnamed variables and it will store in Tuple <br>\n",
    "**args -> used for the named variables and it will store in Dict"
   ],
   "id": "2c752635903320d5"
  },
  {
   "metadata": {
    "ExecuteTime": {
     "end_time": "2025-08-13T11:36:07.023803Z",
     "start_time": "2025-08-13T11:36:07.021214Z"
    }
   },
   "cell_type": "code",
   "source": [
    "#simple function\n",
    "def mul(a,b):\n",
    "    return a*b\n",
    "print(mul(2,3))"
   ],
   "id": "296f086e992a123c",
   "outputs": [
    {
     "name": "stdout",
     "output_type": "stream",
     "text": [
      "6\n"
     ]
    }
   ],
   "execution_count": 14
  },
  {
   "metadata": {
    "ExecuteTime": {
     "end_time": "2025-08-13T11:36:07.059487Z",
     "start_time": "2025-08-13T11:36:07.056656Z"
    }
   },
   "cell_type": "code",
   "source": [
    "# *args\n",
    "def mul(*args):\n",
    "    return args\n",
    "print(mul())\n",
    "\n",
    "def mul2(*args):\n",
    "    return args\n",
    "print(mul2(1,2))"
   ],
   "id": "8cf1ae4cbab38e57",
   "outputs": [
    {
     "name": "stdout",
     "output_type": "stream",
     "text": [
      "()\n",
      "(1, 2)\n"
     ]
    }
   ],
   "execution_count": 15
  },
  {
   "metadata": {
    "ExecuteTime": {
     "end_time": "2025-08-13T11:36:07.088956Z",
     "start_time": "2025-08-13T11:36:07.086417Z"
    }
   },
   "cell_type": "code",
   "source": [
    "# **kwargs\n",
    "def fun(**kwargs):\n",
    "    return kwargs\n",
    "print(fun())\n",
    "def fun(**kwargs):\n",
    "    return kwargs\n",
    "print(fun(one = 1,two=2,three=3))"
   ],
   "id": "639a790bf09a01df",
   "outputs": [
    {
     "name": "stdout",
     "output_type": "stream",
     "text": [
      "{}\n",
      "{'one': 1, 'two': 2, 'three': 3}\n"
     ]
    }
   ],
   "execution_count": 16
  },
  {
   "metadata": {
    "ExecuteTime": {
     "end_time": "2025-08-13T11:36:07.107354Z",
     "start_time": "2025-08-13T11:36:07.104596Z"
    }
   },
   "cell_type": "code",
   "source": [
    "def profile(*args, **kwargs):\n",
    "    print(\"Positional:\", args)\n",
    "    print(\"Keyword:\", kwargs)\n",
    "\n",
    "profile(\"Shiv\", 23, country=\"India\", role=\"Data Scientist\")"
   ],
   "id": "551cb8bdf35bed78",
   "outputs": [
    {
     "name": "stdout",
     "output_type": "stream",
     "text": [
      "Positional: ('Shiv', 23)\n",
      "Keyword: {'country': 'India', 'role': 'Data Scientist'}\n"
     ]
    }
   ],
   "execution_count": 17
  },
  {
   "metadata": {},
   "cell_type": "markdown",
   "source": "### List\n",
   "id": "9d4fb5263d870e2f"
  },
  {
   "metadata": {
    "ExecuteTime": {
     "end_time": "2025-08-13T11:36:07.132055Z",
     "start_time": "2025-08-13T11:36:07.129117Z"
    }
   },
   "cell_type": "code",
   "source": [
    "li = [1,2,3,4,5]\n",
    "li2 = ['a','b','c','d']\n",
    "li3 = [1,'a',2,'b',3,'c',False]\n",
    "print(li, li2, li3)"
   ],
   "id": "f1ac9def9c7c5a4f",
   "outputs": [
    {
     "name": "stdout",
     "output_type": "stream",
     "text": [
      "[1, 2, 3, 4, 5] ['a', 'b', 'c', 'd'] [1, 'a', 2, 'b', 3, 'c', False]\n"
     ]
    }
   ],
   "execution_count": 18
  },
  {
   "metadata": {},
   "cell_type": "markdown",
   "source": " ### List operations",
   "id": "3f79f230bd60832"
  },
  {
   "metadata": {
    "ExecuteTime": {
     "end_time": "2025-08-13T11:36:07.170052Z",
     "start_time": "2025-08-13T11:36:07.166612Z"
    }
   },
   "cell_type": "code",
   "source": [
    "# List slicing\n",
    "# list[start:stop:step]\n",
    "# start: index to start (inclusive)\n",
    "# stop: index to stop (exclusive)\n",
    "# step: interval between elements (default is 1)\n",
    "\n",
    "my_list = [10, 20, 30, 40, 50, 60, 70]\n",
    "print(my_list[1:4])      # [20, 30, 40] → from index 1 to 3\n",
    "print(my_list[:3])       # [10, 20, 30] → from start to index 2\n",
    "print(my_list[4:])       # [50, 60, 70] → from index 4 to end\n",
    "print(my_list[:])        # [10, 20, 30, 40, 50, 60, 70] → full copy\n",
    "print(my_list[::2])      # [10, 30, 50, 70] → every second element\n",
    "print(my_list[::-1])     # [70, 60, 50, 40, 30, 20, 10] → reversed list\n",
    "print(my_list[-4:-1])    # [40, 50, 60] → counts from the end\n",
    "print(my_list[-1:-4:-1]) # [70, 60, 50] → reversed partial slice"
   ],
   "id": "7eba1216f52932e8",
   "outputs": [
    {
     "name": "stdout",
     "output_type": "stream",
     "text": [
      "[20, 30, 40]\n",
      "[10, 20, 30]\n",
      "[50, 60, 70]\n",
      "[10, 20, 30, 40, 50, 60, 70]\n",
      "[10, 30, 50, 70]\n",
      "[70, 60, 50, 40, 30, 20, 10]\n",
      "[40, 50, 60]\n",
      "[70, 60, 50]\n"
     ]
    }
   ],
   "execution_count": 19
  },
  {
   "metadata": {
    "ExecuteTime": {
     "end_time": "2025-08-13T11:36:07.196027Z",
     "start_time": "2025-08-13T11:36:07.191897Z"
    }
   },
   "cell_type": "code",
   "source": [
    "my_list = [10, 20, 30, 40, 50]\n",
    "# append\n",
    "my_list.append(60)\n",
    "print(my_list)  # [10, 20, 30, 40, 50, 60]\n",
    "\n",
    "#extend\n",
    "my_list.extend([70, 80])\n",
    "print(my_list)  # [10, 20, 30, 40, 50, 60, 70, 80]\n",
    "\n",
    "#insert\n",
    "my_list.insert(2, 25)\n",
    "print(my_list)  # [10, 20, 25, 30, 40, 50, ...]\n",
    "\n",
    "#remove\n",
    "my_list.remove(30)\n",
    "print(my_list)  # [10, 20, 25, 40, 50, ...]\n",
    "\n",
    "#pop\n",
    "last = my_list.pop()\n",
    "print(last)     # 80\n",
    "print(my_list)  # [10, 20, 25, 40, 50, 60, 70]\n",
    "\n",
    "#clear\n",
    "my_list.clear()\n",
    "print(my_list)  # []\n",
    "\n",
    "#index\n",
    "my_list = [10, 20, 30, 40]\n",
    "print(my_list.index(30))  # 2\n",
    "\n",
    "#count\n",
    "my_list = [10, 20, 10, 30, 10]\n",
    "print(my_list.count(10))  # 3\n",
    "my_list = [50, 10, 30, 20]\n",
    "\n",
    "#sort\n",
    "my_list.sort()\n",
    "print(my_list)  # [10, 20, 30, 50]\n",
    "my_list.sort(reverse=True)\n",
    "print(my_list)  # [50, 30, 20, 10]\n",
    "\n",
    "#reverse\n",
    "my_list = [1, 2, 3, 4]\n",
    "my_list.reverse()\n",
    "print(my_list)  # [4, 3, 2, 1]\n",
    "\n",
    "#copy\n",
    "new_list = my_list.copy()\n",
    "print(new_list)  # [4, 3, 2, 1]\n"
   ],
   "id": "f018cfbc36749b59",
   "outputs": [
    {
     "name": "stdout",
     "output_type": "stream",
     "text": [
      "[10, 20, 30, 40, 50, 60]\n",
      "[10, 20, 30, 40, 50, 60, 70, 80]\n",
      "[10, 20, 25, 30, 40, 50, 60, 70, 80]\n",
      "[10, 20, 25, 40, 50, 60, 70, 80]\n",
      "80\n",
      "[10, 20, 25, 40, 50, 60, 70]\n",
      "[]\n",
      "2\n",
      "3\n",
      "[10, 20, 30, 50]\n",
      "[50, 30, 20, 10]\n",
      "[4, 3, 2, 1]\n",
      "[4, 3, 2, 1]\n"
     ]
    }
   ],
   "execution_count": 20
  },
  {
   "metadata": {},
   "cell_type": "markdown",
   "source": "### set",
   "id": "6f7c664f1355ac6b"
  },
  {
   "metadata": {
    "ExecuteTime": {
     "end_time": "2025-08-13T11:36:07.229584Z",
     "start_time": "2025-08-13T11:36:07.224089Z"
    }
   },
   "cell_type": "code",
   "source": [
    "# set methods\n",
    "my_set = {1, 2, 3, 4, 5}\n",
    "\n",
    "#add\n",
    "my_set.add(6)\n",
    "print(my_set)  # {1, 2, 3, 4, 5, 6}\n",
    "\n",
    "#update\n",
    "my_set.update([7, 8])\n",
    "print(my_set)  # {1, 2, 3, 4, 5, 6, 7, 8}\n",
    "\n",
    "#remove\n",
    "my_set.remove(3)\n",
    "print(my_set)  # {1, 2, 4, 5, 6, 7, 8}\n",
    "\n",
    "#discard\n",
    "#Removes a specific element. No error if element not found.\n",
    "my_set.discard(100)  # No error\n",
    "\n",
    "#pop\n",
    "val = my_set.pop()\n",
    "print(val)      # Random value\n",
    "print(my_set)   # Remaining elements\n",
    "\n",
    "#clear\n",
    "my_set.clear()\n",
    "print(my_set)  # set()\n",
    "\n",
    "#copy\n",
    "set1 = {1, 2, 3}\n",
    "set2 = set1.copy()\n",
    "print(set2)  # {1, 2, 3}\n",
    "\n",
    "#union\n",
    "# Returns a new set with all elements from both sets.\n",
    "a = {1, 2, 3}\n",
    "b = {3, 4, 5}\n",
    "print(a.union(b))  # {1, 2, 3, 4, 5}\n",
    "\n",
    "#intersection\n",
    "# Returns a new set with common elements.\n",
    "print(a.intersection(b))  # {3}\n",
    "\n",
    "#diffrence\n",
    "# Returns a new set with elements in a but not in b.\n",
    "print(a.difference(b))  # {1, 2}\n",
    "\n",
    "#symmetric_difference\n",
    "# Returns elements in either set, but not both.\n",
    "print(a.symmetric_difference(b))  # {1, 2, 4, 5}\n",
    "\n",
    "#issubset\n",
    "# Checks if a set is a subset of another.\n",
    "print({1, 2}.issubset(a))  # True\n",
    "\n",
    "#issuperset\n",
    "# Checks if a set is a superset of another.\n",
    "# set A is considered a superset of set B if all elements of set B are also present in set A.\n",
    "set_a = {1, 2, 3, 4, 5}\n",
    "set_b = {2, 4}\n",
    "print(set_a.issuperset(set_b)) # Output: True\n",
    "print(set_b.issuperset(set_a)) # Output: False\n",
    "\n",
    "# isdisjoint\n",
    "# checks whether two sets have no common elements. It returns True if the sets are disjoint (i.e., their intersection is empty), and False otherwise.\n",
    "set1 = {1, 2, 3}\n",
    "set2 = {4, 5, 6}\n",
    "set3 = {3, 7, 8}\n",
    "\n",
    "print(set1.isdisjoint(set2)) # Output: True (no common elements)\n",
    "print(set1.isdisjoint(set3)) # Output: False (common element: 3)\n"
   ],
   "id": "48e30f32e2b738c1",
   "outputs": [
    {
     "name": "stdout",
     "output_type": "stream",
     "text": [
      "{1, 2, 3, 4, 5, 6}\n",
      "{1, 2, 3, 4, 5, 6, 7, 8}\n",
      "{1, 2, 4, 5, 6, 7, 8}\n",
      "1\n",
      "{2, 4, 5, 6, 7, 8}\n",
      "set()\n",
      "{1, 2, 3}\n",
      "{1, 2, 3, 4, 5}\n",
      "{3}\n",
      "{1, 2}\n",
      "{1, 2, 4, 5}\n",
      "True\n",
      "True\n",
      "False\n",
      "True\n",
      "False\n"
     ]
    }
   ],
   "execution_count": 21
  },
  {
   "metadata": {
    "ExecuteTime": {
     "end_time": "2025-08-13T11:36:07.256979Z",
     "start_time": "2025-08-13T11:36:07.254098Z"
    }
   },
   "cell_type": "code",
   "source": [
    "A = {1, 2, 3, 4, 5}\n",
    "B = {4, 5, 6, 7, 8}\n",
    "\n",
    "# Union: All elements from both sets\n",
    "# Use the | operator or the union() method\n",
    "union_set = A | B\n",
    "print(\"Union of A and B:\", union_set)\n",
    "\n",
    "# Intersection: Elements that are common to both sets\n",
    "# Use the & operator or the intersection() method\n",
    "intersection_set = A & B\n",
    "print(\"Intersection of A and B:\", intersection_set)\n",
    "\n",
    "# Difference: Elements in A that are not in B\n",
    "# Use the - operator or the difference() method\n",
    "difference_set = A - B\n",
    "print(\"Difference (A - B):\", difference_set)\n",
    "\n",
    "# Symmetric Difference: Elements in either A or B, but not both\n",
    "# Use the ^ operator or the symmetric_difference() method\n",
    "symmetric_difference_set = A ^ B\n",
    "print(\"Symmetric Difference:\", symmetric_difference_set)"
   ],
   "id": "8a6ed845c315ac22",
   "outputs": [
    {
     "name": "stdout",
     "output_type": "stream",
     "text": [
      "Union of A and B: {1, 2, 3, 4, 5, 6, 7, 8}\n",
      "Intersection of A and B: {4, 5}\n",
      "Difference (A - B): {1, 2, 3}\n",
      "Symmetric Difference: {1, 2, 3, 6, 7, 8}\n"
     ]
    }
   ],
   "execution_count": 22
  },
  {
   "metadata": {},
   "cell_type": "markdown",
   "source": "### Tuple",
   "id": "271269824dfafce7"
  },
  {
   "metadata": {
    "ExecuteTime": {
     "end_time": "2025-08-13T11:36:07.291304Z",
     "start_time": "2025-08-13T11:36:07.288625Z"
    }
   },
   "cell_type": "code",
   "source": [
    "# count , index\n",
    "my_tuple = (10, 20, 30, 20, 40, 20)\n",
    "print(my_tuple.count(20))  # Output: 3\n",
    "print(my_tuple.index(30))  # Output: 2\n"
   ],
   "id": "9310e57f614775af",
   "outputs": [
    {
     "name": "stdout",
     "output_type": "stream",
     "text": [
      "3\n",
      "2\n"
     ]
    }
   ],
   "execution_count": 23
  },
  {
   "metadata": {},
   "cell_type": "markdown",
   "source": "### Dictionary",
   "id": "f6256de1badcbb57"
  },
  {
   "metadata": {
    "ExecuteTime": {
     "end_time": "2025-08-13T11:36:07.319923Z",
     "start_time": "2025-08-13T11:36:07.316386Z"
    }
   },
   "cell_type": "code",
   "source": [
    "job_profile = { 'name' : 'dhrumil','age' : 25,'role' : 'Data Scientist'}\n",
    "print(job_profile['name'])\n",
    "print(job_profile.keys())\n",
    "print(job_profile.values())\n",
    "print(job_profile.items())\n",
    "print(job_profile.get('name'))\n",
    "print(job_profile)\n",
    "print(job_profile.items())"
   ],
   "id": "a7238adf64974ee9",
   "outputs": [
    {
     "name": "stdout",
     "output_type": "stream",
     "text": [
      "dhrumil\n",
      "dict_keys(['name', 'age', 'role'])\n",
      "dict_values(['dhrumil', 25, 'Data Scientist'])\n",
      "dict_items([('name', 'dhrumil'), ('age', 25), ('role', 'Data Scientist')])\n",
      "dhrumil\n",
      "{'name': 'dhrumil', 'age': 25, 'role': 'Data Scientist'}\n",
      "dict_items([('name', 'dhrumil'), ('age', 25), ('role', 'Data Scientist')])\n"
     ]
    }
   ],
   "execution_count": 24
  },
  {
   "metadata": {
    "ExecuteTime": {
     "end_time": "2025-08-13T11:36:07.351578Z",
     "start_time": "2025-08-13T11:36:07.348983Z"
    }
   },
   "cell_type": "code",
   "source": [
    "profile2 = dict(zip(['name','age','magic_power'],['ram',32, True]))\n",
    "print(profile2)"
   ],
   "id": "121a03d1596f3611",
   "outputs": [
    {
     "name": "stdout",
     "output_type": "stream",
     "text": [
      "{'name': 'ram', 'age': 32, 'magic_power': True}\n"
     ]
    }
   ],
   "execution_count": 25
  },
  {
   "metadata": {
    "ExecuteTime": {
     "end_time": "2025-08-13T11:36:07.379461Z",
     "start_time": "2025-08-13T11:36:07.376214Z"
    }
   },
   "cell_type": "code",
   "source": [
    "profile2['name'] = 'krishna'\n",
    "print(profile2)\n",
    "profile2.update(job_profile)\n",
    "print(profile2)"
   ],
   "id": "d7ca9fad6a2d67c3",
   "outputs": [
    {
     "name": "stdout",
     "output_type": "stream",
     "text": [
      "{'name': 'krishna', 'age': 32, 'magic_power': True}\n",
      "{'name': 'dhrumil', 'age': 25, 'magic_power': True, 'role': 'Data Scientist'}\n"
     ]
    }
   ],
   "execution_count": 26
  },
  {
   "metadata": {
    "ExecuteTime": {
     "end_time": "2025-08-13T11:36:07.422683Z",
     "start_time": "2025-08-13T11:36:07.421266Z"
    }
   },
   "cell_type": "code",
   "source": "",
   "id": "99cb4883aa97ea3d",
   "outputs": [],
   "execution_count": null
  },
  {
   "metadata": {},
   "cell_type": "markdown",
   "source": "### Arithmatic operation",
   "id": "a97c000d7eb89944"
  },
  {
   "metadata": {
    "ExecuteTime": {
     "end_time": "2025-08-13T11:36:07.443037Z",
     "start_time": "2025-08-13T11:36:07.440403Z"
    }
   },
   "cell_type": "code",
   "source": [
    "## ADD ,MUL ,DIV ,MOD\n",
    "print(5+8)\n",
    "print(5-8)\n",
    "print(5-8*2) #BODMAS\n",
    "print(5*2)\n",
    "print(5**2) #5^2\n",
    "print(5/2)\n",
    "print(5//2)\n",
    "print(5%2)"
   ],
   "id": "f8b0478a84ad0695",
   "outputs": [
    {
     "name": "stdout",
     "output_type": "stream",
     "text": [
      "13\n",
      "-3\n",
      "-11\n",
      "10\n",
      "25\n",
      "2.5\n",
      "2\n",
      "1\n"
     ]
    }
   ],
   "execution_count": 27
  },
  {
   "metadata": {},
   "cell_type": "markdown",
   "source": [
    "### Tricky BODMAS Problem\n",
    "\n",
    "$$10 - 3 \\times 2 + (12 \\div 4) + 2^3 - \\sqrt{16} \\times (5 - 3)$$"
   ],
   "id": "cdd50e671950b6e5"
  },
  {
   "metadata": {
    "ExecuteTime": {
     "end_time": "2025-08-13T11:36:07.471162Z",
     "start_time": "2025-08-13T11:36:07.469002Z"
    }
   },
   "cell_type": "code",
   "source": "print(10-3*2+(12/4)+2**3-16**0.5*(5-3))",
   "id": "406f9dc877c2326d",
   "outputs": [
    {
     "name": "stdout",
     "output_type": "stream",
     "text": [
      "7.0\n"
     ]
    }
   ],
   "execution_count": 28
  },
  {
   "metadata": {},
   "cell_type": "markdown",
   "source": "## comparision",
   "id": "bad091d9c7a1451b"
  },
  {
   "metadata": {
    "ExecuteTime": {
     "end_time": "2025-08-13T11:36:07.502841Z",
     "start_time": "2025-08-13T11:36:07.499646Z"
    }
   },
   "cell_type": "code",
   "source": [
    "# == , < , > , <= , >= !=\n",
    "print(5==6)\n",
    "print(5<6)\n",
    "print(5>6)\n",
    "print(5>=6)\n",
    "print(5<=6)\n",
    "print(5!=6)"
   ],
   "id": "d86e06f7f4174299",
   "outputs": [
    {
     "name": "stdout",
     "output_type": "stream",
     "text": [
      "False\n",
      "True\n",
      "False\n",
      "False\n",
      "True\n",
      "True\n"
     ]
    }
   ],
   "execution_count": 29
  },
  {
   "metadata": {},
   "cell_type": "markdown",
   "source": "## logical",
   "id": "86ad4b30fff90c2d"
  },
  {
   "metadata": {
    "ExecuteTime": {
     "end_time": "2025-08-13T11:36:07.533384Z",
     "start_time": "2025-08-13T11:36:07.530923Z"
    }
   },
   "cell_type": "code",
   "source": [
    "a = 5\n",
    "b = 10\n",
    "\n",
    "print(a > 2 and b < 15)    # True and True → True\n",
    "print(a > 2 and b > 20)    # True and False → False\n",
    "print(a > 2 or b > 20)     # True or False → True\n",
    "print(not (a < 2))         # not False → True\n"
   ],
   "id": "36f8467e610f15a8",
   "outputs": [
    {
     "name": "stdout",
     "output_type": "stream",
     "text": [
      "True\n",
      "False\n",
      "True\n",
      "True\n"
     ]
    }
   ],
   "execution_count": 30
  },
  {
   "metadata": {},
   "cell_type": "markdown",
   "source": [
    "### Bitwise\n",
    "\n",
    "\n",
    "| Operator | Name           | Description                                                                 | Example         |\n",
    "|----------|----------------|-----------------------------------------------------------------------------|-----------------|\n",
    "| `&`      | Bitwise AND    | Returns `1` if **both bits** are `1`, else `0`.                             | `5 & 3 = 1`     |\n",
    "| `\\|`     | Bitwise OR     | Returns `1` if **at least one bit** is `1`, else `0`.                       | `5 \\| 3 = 7`    |\n",
    "| `^`      | Bitwise XOR    | Returns `1` if **only one bit** is `1`, not both.                           | `5 ^ 3 = 6`     |\n",
    "| `~`      | Bitwise NOT    | Inverts all bits. Returns negative due to two's complement.                 | `~5 = -6`       |\n",
    "| `<<`     | Left Shift     | Shifts bits to the **left**, fills 0s on the right. Multiplies by `2^n`.    | `5 << 1 = 10`   |\n",
    "| `>>`     | Right Shift    | Shifts bits to the **right**, discards bits. Divides by `2^n`.              | `5 >> 1 = 2`    |\n",
    "\n",
    "\n"
   ],
   "id": "2b97ce10147edf08"
  },
  {
   "metadata": {
    "ExecuteTime": {
     "end_time": "2025-08-13T11:36:07.573633Z",
     "start_time": "2025-08-13T11:36:07.570613Z"
    }
   },
   "cell_type": "code",
   "source": [
    "a = 5     # Binary: 0101\n",
    "b = 3     # Binary: 0011\n",
    "\n",
    "print(a & b)     # 0101 & 0011 = 0001 → 1\n",
    "print(a | b)     # 0101 | 0011 = 0111 → 7\n",
    "print(a ^ b)     # 0101 ^ 0011 = 0110 → 6\n",
    "print(~a)        # ~0101 = -(0101 + 1) = -6 (two's complement)\n",
    "print(a << 1)    # 0101 << 1 = 1010 → 10\n",
    "print(a >> 1)    # 0101 >> 1 = 0010 → 2\n"
   ],
   "id": "1ac4583e0327337a",
   "outputs": [
    {
     "name": "stdout",
     "output_type": "stream",
     "text": [
      "1\n",
      "7\n",
      "6\n",
      "-6\n",
      "10\n",
      "2\n"
     ]
    }
   ],
   "execution_count": 31
  },
  {
   "metadata": {},
   "cell_type": "markdown",
   "source": "### membership",
   "id": "f4b9b0675c921c0b"
  },
  {
   "metadata": {
    "ExecuteTime": {
     "end_time": "2025-08-13T11:36:07.600958Z",
     "start_time": "2025-08-13T11:36:07.598720Z"
    }
   },
   "cell_type": "code",
   "source": [
    "# in , not in\n",
    "print('h' in 'hello')\n",
    "print('x' not in 'hello')\n",
    "print(1 in [2,3])"
   ],
   "id": "a9ae92393ba3b991",
   "outputs": [
    {
     "name": "stdout",
     "output_type": "stream",
     "text": [
      "True\n",
      "True\n",
      "False\n"
     ]
    }
   ],
   "execution_count": 32
  },
  {
   "metadata": {},
   "cell_type": "markdown",
   "source": "### identity\n",
   "id": "f0045eae06f1a684"
  },
  {
   "metadata": {
    "ExecuteTime": {
     "end_time": "2025-08-13T11:36:07.645332Z",
     "start_time": "2025-08-13T11:36:07.642732Z"
    }
   },
   "cell_type": "code",
   "source": [
    "# is , is not\n",
    "a = 5\n",
    "b = 5\n",
    "c = 6\n",
    "print(a is b)\n",
    "print(a is c)\n",
    "print(a == b)"
   ],
   "id": "2a6c928863772db6",
   "outputs": [
    {
     "name": "stdout",
     "output_type": "stream",
     "text": [
      "True\n",
      "False\n",
      "True\n"
     ]
    }
   ],
   "execution_count": 33
  },
  {
   "metadata": {},
   "cell_type": "markdown",
   "source": [
    "### If a is b --> True and a == b --> True , then why we are using is in python?\n",
    "is and is not used on the object level"
   ],
   "id": "d4b1abd13637f554"
  },
  {
   "metadata": {
    "ExecuteTime": {
     "end_time": "2025-08-13T11:36:07.675176Z",
     "start_time": "2025-08-13T11:36:07.672467Z"
    }
   },
   "cell_type": "code",
   "source": [
    "list1 = [1, 2, 3]\n",
    "list2 = [1, 2, 3]\n",
    "\n",
    "print(list1 == list2)  # True — values are equal\n",
    "print(list1 is list2)  # False — different objects in memory"
   ],
   "id": "20afbb60e90cecdf",
   "outputs": [
    {
     "name": "stdout",
     "output_type": "stream",
     "text": [
      "True\n",
      "False\n"
     ]
    }
   ],
   "execution_count": 34
  },
  {
   "metadata": {},
   "cell_type": "markdown",
   "source": "### Control flow",
   "id": "9a3835cc7d9eb8ac"
  },
  {
   "metadata": {
    "ExecuteTime": {
     "end_time": "2025-08-13T11:36:07.698958Z",
     "start_time": "2025-08-13T11:36:07.695860Z"
    }
   },
   "cell_type": "code",
   "source": [
    "# if , elif , else\n",
    "a=5\n",
    "b=5\n",
    "c=6\n",
    "if a > b:\n",
    "    print(a)\n",
    "elif a < b:\n",
    "    print(b)\n",
    "else:\n",
    "    print(c)\n"
   ],
   "id": "e0711c1799bc17d",
   "outputs": [
    {
     "name": "stdout",
     "output_type": "stream",
     "text": [
      "6\n"
     ]
    }
   ],
   "execution_count": 35
  },
  {
   "metadata": {},
   "cell_type": "markdown",
   "source": "### Loop",
   "id": "1e3dbcfc2862370"
  },
  {
   "metadata": {
    "ExecuteTime": {
     "end_time": "2025-08-13T11:36:07.729762Z",
     "start_time": "2025-08-13T11:36:07.727291Z"
    }
   },
   "cell_type": "code",
   "source": [
    "#for loop iterable are used\n",
    "#range(start, stop, step)\n",
    "for i in range(10):\n",
    "    print(i)"
   ],
   "id": "593d00e8c936389f",
   "outputs": [
    {
     "name": "stdout",
     "output_type": "stream",
     "text": [
      "0\n",
      "1\n",
      "2\n",
      "3\n",
      "4\n",
      "5\n",
      "6\n",
      "7\n",
      "8\n",
      "9\n"
     ]
    }
   ],
   "execution_count": 36
  },
  {
   "metadata": {
    "ExecuteTime": {
     "end_time": "2025-08-13T11:36:07.773971Z",
     "start_time": "2025-08-13T11:36:07.770907Z"
    }
   },
   "cell_type": "code",
   "source": [
    "a = list(range(0,10,2))\n",
    "print(a)\n",
    "print(list(range(0,10,2)))"
   ],
   "id": "69ce84b754b049ec",
   "outputs": [
    {
     "name": "stdout",
     "output_type": "stream",
     "text": [
      "[0, 2, 4, 6, 8]\n",
      "[0, 2, 4, 6, 8]\n"
     ]
    }
   ],
   "execution_count": 37
  },
  {
   "metadata": {
    "ExecuteTime": {
     "end_time": "2025-08-13T11:36:07.803482Z",
     "start_time": "2025-08-13T11:36:07.801175Z"
    }
   },
   "cell_type": "code",
   "source": [
    "for i in range(1,11,2):\n",
    "    print(i)"
   ],
   "id": "bfc6bcf544581a3b",
   "outputs": [
    {
     "name": "stdout",
     "output_type": "stream",
     "text": [
      "1\n",
      "3\n",
      "5\n",
      "7\n",
      "9\n"
     ]
    }
   ],
   "execution_count": 38
  },
  {
   "metadata": {
    "ExecuteTime": {
     "end_time": "2025-08-13T11:36:07.844962Z",
     "start_time": "2025-08-13T11:36:07.842456Z"
    }
   },
   "cell_type": "code",
   "source": [
    "for i in 'data':\n",
    "    print(i)"
   ],
   "id": "be5d0481aea53e84",
   "outputs": [
    {
     "name": "stdout",
     "output_type": "stream",
     "text": [
      "d\n",
      "a\n",
      "t\n",
      "a\n"
     ]
    }
   ],
   "execution_count": 39
  },
  {
   "metadata": {
    "ExecuteTime": {
     "end_time": "2025-08-13T11:36:07.899031Z",
     "start_time": "2025-08-13T11:36:07.895156Z"
    }
   },
   "cell_type": "code",
   "source": [
    "# enumerate()\n",
    "for i, el in enumerate('machine_learning'):\n",
    "  print(f'{i}, {el}')"
   ],
   "id": "9237080bd95b3da3",
   "outputs": [
    {
     "name": "stdout",
     "output_type": "stream",
     "text": [
      "0, m\n",
      "1, a\n",
      "2, c\n",
      "3, h\n",
      "4, i\n",
      "5, n\n",
      "6, e\n",
      "7, _\n",
      "8, l\n",
      "9, e\n",
      "10, a\n",
      "11, r\n",
      "12, n\n",
      "13, i\n",
      "14, n\n",
      "15, g\n"
     ]
    }
   ],
   "execution_count": 40
  },
  {
   "metadata": {
    "ExecuteTime": {
     "end_time": "2025-08-13T11:36:07.944865Z",
     "start_time": "2025-08-13T11:36:07.942256Z"
    }
   },
   "cell_type": "code",
   "source": [
    "li = [False,True,'data',1,2,34]\n",
    "for i in li:\n",
    "    print(i)"
   ],
   "id": "f59136f10cf8bdb0",
   "outputs": [
    {
     "name": "stdout",
     "output_type": "stream",
     "text": [
      "False\n",
      "True\n",
      "data\n",
      "1\n",
      "2\n",
      "34\n"
     ]
    }
   ],
   "execution_count": 41
  },
  {
   "metadata": {
    "ExecuteTime": {
     "end_time": "2025-08-13T11:36:07.986150Z",
     "start_time": "2025-08-13T11:36:07.983243Z"
    }
   },
   "cell_type": "code",
   "source": [
    "# dictionary iterations\n",
    "dict1 = {'a': 1, 'b': 2, 'c': 3}\n",
    "for key,values in dict1.items(): # Dictionary Unpacking\n",
    "    print(key)      # 'a', 'b', 'c'\n",
    "    print(values)   # 1, 2, 3"
   ],
   "id": "80d792ca5aefb1c9",
   "outputs": [
    {
     "name": "stdout",
     "output_type": "stream",
     "text": [
      "a\n",
      "1\n",
      "b\n",
      "2\n",
      "c\n",
      "3\n"
     ]
    }
   ],
   "execution_count": 42
  },
  {
   "metadata": {
    "ExecuteTime": {
     "end_time": "2025-08-13T11:36:08.012880Z",
     "start_time": "2025-08-13T11:36:08.010231Z"
    }
   },
   "cell_type": "code",
   "source": [
    "#nested loop\n",
    "for i in range(1,3): #total iterations are 1 and 2 . 3 is excluded\n",
    "    print('started')\n",
    "    for e in range(11,21):\n",
    "        print(e)\n",
    "    print('ended')"
   ],
   "id": "f43d3334f2f9f89a",
   "outputs": [
    {
     "name": "stdout",
     "output_type": "stream",
     "text": [
      "started\n",
      "11\n",
      "12\n",
      "13\n",
      "14\n",
      "15\n",
      "16\n",
      "17\n",
      "18\n",
      "19\n",
      "20\n",
      "ended\n",
      "started\n",
      "11\n",
      "12\n",
      "13\n",
      "14\n",
      "15\n",
      "16\n",
      "17\n",
      "18\n",
      "19\n",
      "20\n",
      "ended\n"
     ]
    }
   ],
   "execution_count": 43
  },
  {
   "metadata": {},
   "cell_type": "markdown",
   "source": "### while loop",
   "id": "23ef97fd8ca6d8de"
  },
  {
   "metadata": {
    "ExecuteTime": {
     "end_time": "2025-08-13T11:36:08.038914Z",
     "start_time": "2025-08-13T11:36:08.036475Z"
    }
   },
   "cell_type": "code",
   "source": [
    "count = 1\n",
    "while count < 10:\n",
    "    print(count)\n",
    "    count += 1\n",
    "# until the count < 10 print count and increment count by 1"
   ],
   "id": "60c82d534940f6c5",
   "outputs": [
    {
     "name": "stdout",
     "output_type": "stream",
     "text": [
      "1\n",
      "2\n",
      "3\n",
      "4\n",
      "5\n",
      "6\n",
      "7\n",
      "8\n",
      "9\n"
     ]
    }
   ],
   "execution_count": 44
  },
  {
   "metadata": {
    "ExecuteTime": {
     "end_time": "2025-08-13T11:36:27.048928Z",
     "start_time": "2025-08-13T11:36:08.069948Z"
    }
   },
   "cell_type": "code",
   "source": [
    "# until user enter quit run\n",
    "user_input = \"\"\n",
    "while user_input.lower() != \"quit\":\n",
    "    user_input = input(\"Enter a command (or 'quit' to exit): \")\n",
    "    if user_input.lower() != \"quit\":\n",
    "        print(f\"You entered: {user_input}\")"
   ],
   "id": "45c060ce0097bf87",
   "outputs": [
    {
     "name": "stdout",
     "output_type": "stream",
     "text": [
      "You entered: quite\n"
     ]
    }
   ],
   "execution_count": 45
  },
  {
   "metadata": {
    "ExecuteTime": {
     "end_time": "2025-08-13T11:48:23.597442Z",
     "start_time": "2025-08-13T11:47:22.474016Z"
    }
   },
   "cell_type": "code",
   "source": [
    "import random\n",
    "\n",
    "score = 0\n",
    "game_run = True\n",
    "\n",
    "while game_run:\n",
    "    #generate a random number for the user to guess\n",
    "    secret_num = random.randint(1, 10)\n",
    "\n",
    "    # Get user input\n",
    "    try:\n",
    "        guess = int(input(\"Guess a number between 1 and 10: \"))\n",
    "    except ValueError:\n",
    "        print(\"That's not a valid number! Try again.\")\n",
    "        continue  # Skip the rest of the loop and start the next iteration\n",
    "\n",
    "    # Process the guess\n",
    "    if guess == secret_num:\n",
    "        score += 10\n",
    "        print(f\"Correct! 🎉 Your score is now {score}.\")\n",
    "        game_run = False\n",
    "    elif guess == 99: # 99 for exit game\n",
    "        print('see you later!')\n",
    "        game_run = False\n",
    "    else:\n",
    "        print(f\"Wrong {guess}. The number was {secret_num}. Game over!\")\n",
    "\n",
    "print(\"Thanks for playing!\")"
   ],
   "id": "1f8f08624bdbf1c1",
   "outputs": [
    {
     "name": "stdout",
     "output_type": "stream",
     "text": [
      "Wrong. The number was 3. Game over!\n",
      "Wrong. The number was 6. Game over!\n",
      "Wrong. The number was 1. Game over!\n",
      "Wrong. The number was 6. Game over!\n",
      "Wrong. The number was 7. Game over!\n",
      "Wrong. The number was 2. Game over!\n",
      "Wrong. The number was 6. Game over!\n",
      "Wrong. The number was 8. Game over!\n",
      "Wrong. The number was 1. Game over!\n",
      "Wrong. The number was 2. Game over!\n",
      "Wrong. The number was 2. Game over!\n",
      "Wrong. The number was 3. Game over!\n",
      "Wrong. The number was 2. Game over!\n",
      "Wrong. The number was 7. Game over!\n",
      "Wrong. The number was 9. Game over!\n",
      "Wrong. The number was 7. Game over!\n",
      "Wrong. The number was 2. Game over!\n",
      "Wrong. The number was 1. Game over!\n",
      "Wrong. The number was 4. Game over!\n",
      "Wrong. The number was 3. Game over!\n",
      "Wrong. The number was 10. Game over!\n",
      "Wrong. The number was 7. Game over!\n",
      "Wrong. The number was 8. Game over!\n",
      "Wrong. The number was 1. Game over!\n",
      "Wrong. The number was 7. Game over!\n",
      "Wrong. The number was 10. Game over!\n",
      "Wrong. The number was 8. Game over!\n",
      "Wrong. The number was 6. Game over!\n",
      "Wrong. The number was 10. Game over!\n",
      "Wrong. The number was 2. Game over!\n",
      "Wrong. The number was 9. Game over!\n",
      "Wrong. The number was 6. Game over!\n",
      "Wrong. The number was 1. Game over!\n",
      "Wrong. The number was 6. Game over!\n",
      "Wrong. The number was 9. Game over!\n",
      "Wrong. The number was 4. Game over!\n",
      "Wrong. The number was 6. Game over!\n",
      "Wrong. The number was 1. Game over!\n",
      "Wrong. The number was 2. Game over!\n",
      "Wrong. The number was 7. Game over!\n",
      "Wrong. The number was 8. Game over!\n",
      "Wrong. The number was 8. Game over!\n",
      "Wrong. The number was 8. Game over!\n",
      "Wrong. The number was 2. Game over!\n",
      "Wrong. The number was 10. Game over!\n",
      "Wrong. The number was 6. Game over!\n",
      "Wrong. The number was 8. Game over!\n",
      "Wrong. The number was 8. Game over!\n",
      "Wrong. The number was 10. Game over!\n",
      "That's not a valid number! Try again.\n",
      "Correct! 🎉 Your score is now 10.\n",
      "Thanks for playing!\n"
     ]
    }
   ],
   "execution_count": 50
  },
  {
   "metadata": {},
   "cell_type": "markdown",
   "source": "#### Lambda Function\n",
   "id": "767b65821be1c4d4"
  },
  {
   "metadata": {
    "ExecuteTime": {
     "end_time": "2025-08-13T11:59:21.259273Z",
     "start_time": "2025-08-13T11:59:21.256010Z"
    }
   },
   "cell_type": "code",
   "source": [
    "# simple lambda function\n",
    "def add(a,b):\n",
    "    return a+b\n",
    "print(add(1,2))\n",
    "\n",
    "#using lambda\n",
    "# structure creating variable to store\n",
    "# then lambda parameters : operation or condition\n",
    "lambda_add = lambda a, b: a+b\n",
    "print(lambda_add(1,2))"
   ],
   "id": "5fdaf2a9a6d74c0",
   "outputs": [
    {
     "name": "stdout",
     "output_type": "stream",
     "text": [
      "3\n",
      "3\n"
     ]
    }
   ],
   "execution_count": 51
  },
  {
   "metadata": {
    "ExecuteTime": {
     "end_time": "2025-08-13T12:03:45.841582Z",
     "start_time": "2025-08-13T12:03:45.837023Z"
    }
   },
   "cell_type": "code",
   "source": [
    "format_info = lambda **kwargs: \", \".join(f\"{k}={v}\" for k, v in kwargs.items())\n",
    "print(format_info(name=\"Shivam\", role=\"Data Scientist\", level=\"Intern\"))\n",
    "# name=Shivam, role=Data Scientist, level=Intern\n"
   ],
   "id": "5cc62e44b0c35863",
   "outputs": [
    {
     "name": "stdout",
     "output_type": "stream",
     "text": [
      "name=Shivam, role=Data Scientist, level=Intern\n"
     ]
    }
   ],
   "execution_count": 52
  },
  {
   "metadata": {},
   "cell_type": "code",
   "outputs": [],
   "execution_count": null,
   "source": "",
   "id": "32bcb7b71dc307fc"
  }
 ],
 "metadata": {
  "kernelspec": {
   "display_name": "Python 3",
   "language": "python",
   "name": "python3"
  },
  "language_info": {
   "codemirror_mode": {
    "name": "ipython",
    "version": 2
   },
   "file_extension": ".py",
   "mimetype": "text/x-python",
   "name": "python",
   "nbconvert_exporter": "python",
   "pygments_lexer": "ipython2",
   "version": "2.7.6"
  }
 },
 "nbformat": 4,
 "nbformat_minor": 5
}
