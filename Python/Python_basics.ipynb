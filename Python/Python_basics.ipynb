{
 "cells": [
  {
   "metadata": {},
   "cell_type": "markdown",
   "source": "## Python",
   "id": "7e0b8f49a11172e5"
  },
  {
   "metadata": {},
   "cell_type": "markdown",
   "source": [
    "Python is an interpreter, object-oriented, high-level programming language with dynamic semantics.\n",
    "Python's simple, easy to learn syntax emphasizes readability and therefore reduces the cost of program\n",
    "maintenance. Python supports modules and packages, which encourages program modularity and code\n",
    "reuse."
   ],
   "id": "f91fb4d17fabc0b8"
  },
  {
   "metadata": {},
   "cell_type": "markdown",
   "source": [
    "Python guide:- [Link](https://zerotomastery.io/cheatsheets/python-cheat-sheet/)\n",
    "\n",
    "Book:- [Link](https://books.google.co.in/books?id=gDGdDwAAQBAJ&printsec=frontcover&redir_esc=y#v=onepage&q&f=false)"
   ],
   "id": "c1415d275c7e0f08"
  },
  {
   "metadata": {},
   "cell_type": "markdown",
   "source": "### Data Types",
   "id": "39adca8017c49b65"
  },
  {
   "metadata": {
    "ExecuteTime": {
     "end_time": "2025-08-04T06:19:57.138039Z",
     "start_time": "2025-08-04T06:19:57.134895Z"
    }
   },
   "cell_type": "code",
   "source": [
    "a = 1\n",
    "print(type(a))\n",
    "b = 1.1\n",
    "print(type(b))\n",
    "c = True\n",
    "print(type(c))\n",
    "d = 'data'\n",
    "print(type(d))"
   ],
   "id": "39b658e27c4ece6c",
   "outputs": [
    {
     "name": "stdout",
     "output_type": "stream",
     "text": [
      "<class 'int'>\n",
      "<class 'float'>\n",
      "<class 'bool'>\n",
      "<class 'str'>\n"
     ]
    }
   ],
   "execution_count": 2
  },
  {
   "metadata": {},
   "cell_type": "markdown",
   "source": "### Bool",
   "id": "91dc088de86ae9d4"
  },
  {
   "metadata": {
    "ExecuteTime": {
     "end_time": "2025-08-04T11:25:12.099266Z",
     "start_time": "2025-08-04T11:25:12.095402Z"
    }
   },
   "cell_type": "code",
   "source": [
    "print(bool(None))\n",
    "print(bool(False))\n",
    "print(bool(0))\n",
    "print(bool())\n",
    "print(bool(1))\n",
    "print(bool(-1))\n",
    "print(bool(0.0))\n",
    "print(bool([]))\n",
    "print(bool({}))\n",
    "print(bool(()))\n",
    "print(bool(''))\n",
    "print(bool(range(0)))\n",
    "print(bool(set()))\n",
    "print(bool(list()))\n",
    "print(bool(dict()))"
   ],
   "id": "4ca7fd6059e3cd9b",
   "outputs": [
    {
     "name": "stdout",
     "output_type": "stream",
     "text": [
      "False\n",
      "False\n",
      "False\n",
      "False\n",
      "True\n",
      "True\n",
      "False\n",
      "False\n",
      "False\n",
      "False\n",
      "False\n",
      "False\n",
      "False\n",
      "False\n",
      "False\n"
     ]
    }
   ],
   "execution_count": 49
  },
  {
   "metadata": {},
   "cell_type": "markdown",
   "source": "### String formating and slicing\n",
   "id": "a214ec5496ce057e"
  },
  {
   "metadata": {
    "ExecuteTime": {
     "end_time": "2025-08-04T06:19:57.116247Z",
     "start_time": "2025-08-04T06:19:57.112636Z"
    }
   },
   "cell_type": "code",
   "source": [
    "s = 'Python is best for Data science'\n",
    "# f-string\n",
    "written = 'Guido van Rossum'\n",
    "print(f'Python was invented by {written}')\n",
    "print(f\"written in reverse order :- {written[::-1]}\")"
   ],
   "id": "d766c05cc856704d",
   "outputs": [
    {
     "name": "stdout",
     "output_type": "stream",
     "text": [
      "Python was invented by Guido van Rossum\n",
      "written in reverse order :- mussoR nav odiuG\n"
     ]
    }
   ],
   "execution_count": 1
  },
  {
   "metadata": {},
   "cell_type": "markdown",
   "source": [
    "### string functions\n",
    "strip() <br>\n",
    "split() <br>\n",
    "replace() <br>\n",
    "endswith() <br>\n",
    "upper() <br>\n",
    "lower() <br>\n",
    "startswith() <br>\n",
    "index() <br>\n",
    "find() <br>\n",
    "capitalize() <br>\n",
    "count() <br>"
   ],
   "id": "8029b60f37bdf376"
  },
  {
   "metadata": {
    "ExecuteTime": {
     "end_time": "2025-08-04T09:47:21.927754Z",
     "start_time": "2025-08-04T09:47:21.923436Z"
    }
   },
   "cell_type": "code",
   "source": [
    "#strip()\n",
    "sentence = '  I am old  '\n",
    "print(sentence.lstrip())\n",
    "print(sentence.rstrip())\n",
    "print(sentence.strip())\n",
    "print(sentence.strip('I'))"
   ],
   "id": "59b3a4d1f2a9a724",
   "outputs": [
    {
     "name": "stdout",
     "output_type": "stream",
     "text": [
      "I am old  \n",
      "  I am old\n",
      "I am old\n",
      "  I am old  \n"
     ]
    }
   ],
   "execution_count": 22
  },
  {
   "metadata": {},
   "cell_type": "markdown",
   "source": "As you can see that last print(sentence.strip('I') did not work because, it check like --> Is the first character ' ' ? Yes. Is a space in the character set 'I'? No. strip() stops here. It will not strip off any more characters from the beginning, even if they were in the set.",
   "id": "f7e44fffe9b4379e"
  },
  {
   "metadata": {
    "ExecuteTime": {
     "end_time": "2025-08-04T09:51:37.425497Z",
     "start_time": "2025-08-04T09:51:37.422328Z"
    }
   },
   "cell_type": "code",
   "source": [
    "#split()\n",
    "sen = 'AI will do vibe code'\n",
    "print(sen.split())\n",
    "print(sen.split('w'))"
   ],
   "id": "62a4067762579db5",
   "outputs": [
    {
     "name": "stdout",
     "output_type": "stream",
     "text": [
      "['AI', 'will', 'do', 'vibe', 'code']\n",
      "['AI ', 'ill do vibe code']\n"
     ]
    }
   ],
   "execution_count": 31
  },
  {
   "metadata": {
    "ExecuteTime": {
     "end_time": "2025-08-04T10:01:33.072314Z",
     "start_time": "2025-08-04T10:01:33.069604Z"
    }
   },
   "cell_type": "code",
   "source": [
    "#find\n",
    "sen = 'AI will change the every industry what do you think ?'\n",
    "print(sen.find('AI')) #find() --> will give the index of where the word is started"
   ],
   "id": "124309ceb17a818b",
   "outputs": [
    {
     "name": "stdout",
     "output_type": "stream",
     "text": [
      "0\n"
     ]
    }
   ],
   "execution_count": 42
  },
  {
   "metadata": {
    "ExecuteTime": {
     "end_time": "2025-08-04T09:53:40.047863Z",
     "start_time": "2025-08-04T09:53:40.044703Z"
    }
   },
   "cell_type": "code",
   "source": [
    "#replace()\n",
    "sen = 'ML will do vibe code'\n",
    "print(sen.replace('ML', 'AI')) # replace --> ML with  AI\n",
    "sen2 = 'ML will do vibe code ML'\n",
    "print(sen2.replace('ML', 'AI'))"
   ],
   "id": "c6ca1f1c70f5a1bd",
   "outputs": [
    {
     "name": "stdout",
     "output_type": "stream",
     "text": [
      "AI will do vibe code\n",
      "AI will do vibe code AI\n"
     ]
    }
   ],
   "execution_count": 33
  },
  {
   "metadata": {
    "ExecuteTime": {
     "end_time": "2025-08-04T09:57:56.469068Z",
     "start_time": "2025-08-04T09:57:56.465639Z"
    }
   },
   "cell_type": "code",
   "source": [
    "#endswith\n",
    "sen = 'What do you code?'\n",
    "print(sen.endswith('?'))\n",
    "print(sen.endswith('.'))\n",
    "#startswith\n",
    "print(sen.startswith('W'))\n",
    "print(sen.startswith('Hi'))"
   ],
   "id": "dc14e626b8a4a28",
   "outputs": [
    {
     "name": "stdout",
     "output_type": "stream",
     "text": [
      "True\n",
      "False\n",
      "True\n",
      "False\n"
     ]
    }
   ],
   "execution_count": 36
  },
  {
   "metadata": {
    "ExecuteTime": {
     "end_time": "2025-08-04T09:59:35.767096Z",
     "start_time": "2025-08-04T09:59:35.763986Z"
    }
   },
   "cell_type": "code",
   "source": [
    "#upper\n",
    "sen = 'hi there!'\n",
    "print(sen.upper())\n",
    "#lower\n",
    "sen2 = 'HI There'\n",
    "print(sen2.lower())\n",
    "#capitalize\n",
    "sen3 = 'hi there!'\n",
    "print(sen3.capitalize())"
   ],
   "id": "2987ad9afda5be4e",
   "outputs": [
    {
     "name": "stdout",
     "output_type": "stream",
     "text": [
      "HI THERE!\n",
      "hi there\n",
      "Hi there!\n"
     ]
    }
   ],
   "execution_count": 37
  },
  {
   "metadata": {
    "ExecuteTime": {
     "end_time": "2025-08-04T10:00:32.286890Z",
     "start_time": "2025-08-04T10:00:32.283670Z"
    }
   },
   "cell_type": "code",
   "source": [
    "# count\n",
    "sen = 'go to college'\n",
    "print(sen.count('g'))\n",
    "print(sen.count('t'))"
   ],
   "id": "7953fd1e1f54f102",
   "outputs": [
    {
     "name": "stdout",
     "output_type": "stream",
     "text": [
      "2\n",
      "1\n"
     ]
    }
   ],
   "execution_count": 41
  },
  {
   "metadata": {},
   "cell_type": "markdown",
   "source": "### Function",
   "id": "a24bd88bb42b2a84"
  },
  {
   "metadata": {
    "ExecuteTime": {
     "end_time": "2025-08-04T09:44:19.123260Z",
     "start_time": "2025-08-04T09:44:19.120381Z"
    }
   },
   "cell_type": "code",
   "source": [
    "# simple function\n",
    "def add():\n",
    "    return 1+5\n",
    "print(add())\n",
    "\n",
    "# keyword and argument in function\n",
    "def add(a,b):\n",
    "    return a+b\n",
    "print(add(5,9))"
   ],
   "id": "bc652e1b9c2731f3",
   "outputs": [
    {
     "name": "stdout",
     "output_type": "stream",
     "text": [
      "6\n",
      "14\n"
     ]
    }
   ],
   "execution_count": 18
  },
  {
   "metadata": {
    "ExecuteTime": {
     "end_time": "2025-08-04T06:31:34.894241Z",
     "start_time": "2025-08-04T06:31:34.891446Z"
    }
   },
   "cell_type": "code",
   "source": [
    "# default keywords\n",
    "def greet(name,age=24):\n",
    "    return f'Hello {name}, you are {age} years old.'\n",
    "print(greet('Rossum',25))"
   ],
   "id": "5c08e7241d1b5938",
   "outputs": [
    {
     "name": "stdout",
     "output_type": "stream",
     "text": [
      "Hello Rossum, you are 25 years old.\n"
     ]
    }
   ],
   "execution_count": 12
  },
  {
   "metadata": {
    "ExecuteTime": {
     "end_time": "2025-08-04T06:30:43.037537Z",
     "start_time": "2025-08-04T06:30:43.035053Z"
    }
   },
   "cell_type": "code",
   "source": [
    "# type hint provided\n",
    "def greet(name, age: int = 24) -> str:\n",
    "    return f'Hello {name}, you are {age} years old.'\n",
    "print(greet('Rossum',25))"
   ],
   "id": "e76ab41f50887694",
   "outputs": [
    {
     "name": "stdout",
     "output_type": "stream",
     "text": [
      "Hello Rossum, you are 25 years old.\n"
     ]
    }
   ],
   "execution_count": 11
  },
  {
   "metadata": {},
   "cell_type": "markdown",
   "source": [
    "### Use of *args and **kwargs\n",
    "*args -> used for the unnamed variables and it will store in Tuple <br>\n",
    "**args -> used for the named variables and it will store in Dict"
   ],
   "id": "2c752635903320d5"
  },
  {
   "metadata": {},
   "cell_type": "code",
   "outputs": [],
   "execution_count": null,
   "source": [
    "#simple function\n",
    "def mul(a,b):\n",
    "    return a*b\n",
    "print(mul(2,3))"
   ],
   "id": "296f086e992a123c"
  },
  {
   "metadata": {
    "ExecuteTime": {
     "end_time": "2025-08-04T11:36:53.868009Z",
     "start_time": "2025-08-04T11:36:53.864730Z"
    }
   },
   "cell_type": "code",
   "source": [
    "# *args\n",
    "def mul(*args):\n",
    "    return args\n",
    "print(mul())\n",
    "\n",
    "def mul2(*args):\n",
    "    return args\n",
    "print(mul2(1,2))"
   ],
   "id": "8cf1ae4cbab38e57",
   "outputs": [
    {
     "name": "stdout",
     "output_type": "stream",
     "text": [
      "()\n",
      "(1, 2)\n"
     ]
    }
   ],
   "execution_count": 55
  },
  {
   "metadata": {
    "ExecuteTime": {
     "end_time": "2025-08-04T11:38:40.244718Z",
     "start_time": "2025-08-04T11:38:40.240325Z"
    }
   },
   "cell_type": "code",
   "source": [
    "# **kwargs\n",
    "def fun(**kwargs):\n",
    "    return kwargs\n",
    "print(fun())\n",
    "def fun(**kwargs):\n",
    "    return kwargs\n",
    "print(fun(one = 1,two=2,three=3))"
   ],
   "id": "639a790bf09a01df",
   "outputs": [
    {
     "name": "stdout",
     "output_type": "stream",
     "text": [
      "{}\n",
      "{'one': 1, 'two': 2, 'three': 3}\n"
     ]
    }
   ],
   "execution_count": 59
  },
  {
   "metadata": {
    "ExecuteTime": {
     "end_time": "2025-08-04T11:39:33.713235Z",
     "start_time": "2025-08-04T11:39:33.709562Z"
    }
   },
   "cell_type": "code",
   "source": [
    "def profile(*args, **kwargs):\n",
    "    print(\"Positional:\", args)\n",
    "    print(\"Keyword:\", kwargs)\n",
    "\n",
    "profile(\"Shiv\", 23, country=\"India\", role=\"Data Scientist\")"
   ],
   "id": "551cb8bdf35bed78",
   "outputs": [
    {
     "name": "stdout",
     "output_type": "stream",
     "text": [
      "Positional: ('Shiv', 23)\n",
      "Keyword: {'country': 'India', 'role': 'Data Scientist'}\n"
     ]
    }
   ],
   "execution_count": 60
  },
  {
   "metadata": {
    "ExecuteTime": {
     "end_time": "2025-08-04T12:59:47.227682Z",
     "start_time": "2025-08-04T12:59:47.221997Z"
    }
   },
   "cell_type": "code",
   "source": "",
   "id": "8d2ddf0813e4959e",
   "outputs": [],
   "execution_count": null
  }
 ],
 "metadata": {
  "kernelspec": {
   "display_name": "Python 3",
   "language": "python",
   "name": "python3"
  },
  "language_info": {
   "codemirror_mode": {
    "name": "ipython",
    "version": 2
   },
   "file_extension": ".py",
   "mimetype": "text/x-python",
   "name": "python",
   "nbconvert_exporter": "python",
   "pygments_lexer": "ipython2",
   "version": "2.7.6"
  }
 },
 "nbformat": 4,
 "nbformat_minor": 5
}
